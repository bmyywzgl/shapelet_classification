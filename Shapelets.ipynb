{
 "cells": [
  {
   "cell_type": "code",
   "execution_count": 1,
   "metadata": {},
   "outputs": [],
   "source": [
    "import math\n",
    "import random\n",
    "import numpy as np\n",
    "import os\n",
    "import fnmatch\n",
    "import numpy as np\n",
    "from astropy.io import fits\n",
    "import matplotlib.pyplot as plt\n",
    "import shapelets as sha\n",
    "import importlib\n",
    "importlib.reload(sha)\n",
    "from operator import itemgetter\n",
    "lcs=[]\n",
    "classes=[]\n",
    "xs=np.arange(0,30)\n",
    "def noisy(average_value):\n",
    "    return average_value+(math.cos(random.randint(0,360)*(math.pi/180))*0.1*average_value)\n",
    "no_per_class=50\n",
    "for i in range(no_per_class):\n",
    "    ys=[]\n",
    "    peak=np.random.choice(xs[1:-1])\n",
    "    for x in xs:\n",
    "        y=noisy(2)\n",
    "        ys.append(y)\n",
    "    ys[peak]=ys[peak-1]=ys[peak+1]=noisy(5)\n",
    "    lcs.append(np.stack((xs,ys)))\n",
    "    classes.append(\"alpha\")\n",
    "for i in range(no_per_class):\n",
    "    ys=[]\n",
    "    peak=np.random.choice(xs[:-1])\n",
    "    for x in xs:\n",
    "        y=noisy(2)\n",
    "        ys.append(y)\n",
    "    ys[peak]=noisy(10)\n",
    "    lcs.append(np.stack((xs,ys)))\n",
    "    classes.append(\"beta\")\n",
    "for i in range(no_per_class):\n",
    "    ys=[]\n",
    "    peak=np.random.choice(xs[:-3])\n",
    "    for x in xs:\n",
    "        y=noisy(2)\n",
    "        ys.append(y)\n",
    "    ys[peak]=noisy(10)\n",
    "    #if peak<xs[-2]:\n",
    "    ys[peak+2]=ys[peak+3]=noisy(5)\n",
    "    lcs.append(np.stack((xs,ys)))\n",
    "    classes.append(\"gamma\")\n",
    "for i in range(no_per_class):\n",
    "    ys=[]\n",
    "    #peak=np.random.choice(xs[:-3])\n",
    "    for x in xs:\n",
    "        y=noisy(2)\n",
    "        ys.append(y)\n",
    "    #ys[peak]=noisy(10)\n",
    "    #if peak<xs[-2]:\n",
    "    #ys[peak+2]=ys[peak+3]=noisy(5)\n",
    "    lcs.append(np.stack((xs,ys)))\n",
    "    classes.append(\"delta\")\n",
    "ids=[]\n",
    "for i in range(len(classes)):\n",
    "    ids.append(i)\n",
    "ob_state = {}\n",
    "for i, ob in enumerate(classes):\n",
    "    ob_state[i] = ob"
   ]
  },
  {
   "cell_type": "code",
   "execution_count": 2,
   "metadata": {},
   "outputs": [],
   "source": [
    "from sklearn.model_selection import train_test_split\n",
    "x_train, x_test, y_train, y_test, id_train, id_test = train_test_split(lcs, classes, ids, test_size=0.5, random_state=0, stratify=classes)"
   ]
  },
  {
   "cell_type": "code",
   "execution_count": 3,
   "metadata": {},
   "outputs": [
    {
     "ename": "ZeroDivisionError",
     "evalue": "division by zero",
     "output_type": "error",
     "traceback": [
      "\u001b[0;31m---------------------------------------------------------------------------\u001b[0m",
      "\u001b[0;31mZeroDivisionError\u001b[0m                         Traceback (most recent call last)",
      "\u001b[0;32m<ipython-input-3-857f53117c04>\u001b[0m in \u001b[0;36m<module>\u001b[0;34m()\u001b[0m\n\u001b[1;32m     46\u001b[0m             \u001b[0;31m#find the optimal split point if there are at least two distances calculated, then use entropy pruning to find if the shapelet still has a change to beat the best one found so far\u001b[0m\u001b[0;34m\u001b[0m\u001b[0;34m\u001b[0m\u001b[0m\n\u001b[1;32m     47\u001b[0m             \u001b[0;32mif\u001b[0m \u001b[0mlen\u001b[0m\u001b[0;34m(\u001b[0m\u001b[0mdistances\u001b[0m\u001b[0;34m)\u001b[0m\u001b[0;34m>\u001b[0m\u001b[0;36m1\u001b[0m\u001b[0;34m:\u001b[0m\u001b[0;34m\u001b[0m\u001b[0m\n\u001b[0;32m---> 48\u001b[0;31m                 \u001b[0mbest_split\u001b[0m\u001b[0;34m=\u001b[0m\u001b[0msha\u001b[0m\u001b[0;34m.\u001b[0m\u001b[0mbest_split_point\u001b[0m\u001b[0;34m(\u001b[0m\u001b[0mdistances\u001b[0m\u001b[0;34m,\u001b[0m \u001b[0mset_entropy\u001b[0m\u001b[0;34m)\u001b[0m\u001b[0;34m\u001b[0m\u001b[0m\n\u001b[0m\u001b[1;32m     49\u001b[0m                 \u001b[0mskip_shapelet\u001b[0m\u001b[0;34m=\u001b[0m\u001b[0msha\u001b[0m\u001b[0;34m.\u001b[0m\u001b[0mentropy_pruning\u001b[0m\u001b[0;34m(\u001b[0m\u001b[0mbest_gain\u001b[0m\u001b[0;34m,\u001b[0m \u001b[0mdistances\u001b[0m\u001b[0;34m,\u001b[0m \u001b[0mbest_split\u001b[0m\u001b[0;34m,\u001b[0m \u001b[0mlen\u001b[0m\u001b[0;34m(\u001b[0m\u001b[0mbelong_class\u001b[0m\u001b[0;34m)\u001b[0m\u001b[0;34m,\u001b[0m \u001b[0mlen\u001b[0m\u001b[0;34m(\u001b[0m\u001b[0mother_class\u001b[0m\u001b[0;34m)\u001b[0m\u001b[0;34m,\u001b[0m \u001b[0mset_entropy\u001b[0m\u001b[0;34m)\u001b[0m\u001b[0;34m\u001b[0m\u001b[0m\n\u001b[1;32m     50\u001b[0m                 \u001b[0;31m#print(best_split,distances,order,calc_belong,\"\\n\")\u001b[0m\u001b[0;34m\u001b[0m\u001b[0;34m\u001b[0m\u001b[0m\n",
      "\u001b[0;32m~/Documents/Shapelet/Shapelet/shapelet_timeseries_classification/shapelets.py\u001b[0m in \u001b[0;36mbest_split_point\u001b[0;34m(distances, set_entropy)\u001b[0m\n\u001b[1;32m     86\u001b[0m     \u001b[0;32mfor\u001b[0m \u001b[0mdistance\u001b[0m \u001b[0;32min\u001b[0m \u001b[0mrange\u001b[0m\u001b[0;34m(\u001b[0m\u001b[0mlen\u001b[0m\u001b[0;34m(\u001b[0m\u001b[0mdistances\u001b[0m\u001b[0;34m)\u001b[0m\u001b[0;34m-\u001b[0m\u001b[0;36m1\u001b[0m\u001b[0;34m)\u001b[0m\u001b[0;34m:\u001b[0m\u001b[0;34m\u001b[0m\u001b[0m\n\u001b[1;32m     87\u001b[0m         \u001b[0msplit_point\u001b[0m\u001b[0;34m=\u001b[0m\u001b[0;34m(\u001b[0m\u001b[0mdistances\u001b[0m\u001b[0;34m[\u001b[0m\u001b[0mdistance\u001b[0m\u001b[0;34m]\u001b[0m\u001b[0;34m[\u001b[0m\u001b[0;36m1\u001b[0m\u001b[0;34m]\u001b[0m \u001b[0;34m+\u001b[0m \u001b[0mdistances\u001b[0m\u001b[0;34m[\u001b[0m\u001b[0mdistance\u001b[0m\u001b[0;34m+\u001b[0m\u001b[0;36m1\u001b[0m\u001b[0;34m]\u001b[0m\u001b[0;34m[\u001b[0m\u001b[0;36m1\u001b[0m\u001b[0;34m]\u001b[0m\u001b[0;34m)\u001b[0m\u001b[0;34m/\u001b[0m\u001b[0;36m2\u001b[0m\u001b[0;34m\u001b[0m\u001b[0m\n\u001b[0;32m---> 88\u001b[0;31m         \u001b[0mgain\u001b[0m\u001b[0;34m=\u001b[0m\u001b[0minformation_gain\u001b[0m\u001b[0;34m(\u001b[0m\u001b[0mdistances\u001b[0m\u001b[0;34m,\u001b[0m \u001b[0mset_entropy\u001b[0m\u001b[0;34m,\u001b[0m \u001b[0msplit_point\u001b[0m\u001b[0;34m)\u001b[0m\u001b[0;34m\u001b[0m\u001b[0m\n\u001b[0m\u001b[1;32m     89\u001b[0m         \u001b[0;32mif\u001b[0m \u001b[0misinstance\u001b[0m\u001b[0;34m(\u001b[0m\u001b[0mgain\u001b[0m\u001b[0;34m,\u001b[0m \u001b[0mstr\u001b[0m\u001b[0;34m)\u001b[0m \u001b[0;34m==\u001b[0m \u001b[0;32mTrue\u001b[0m\u001b[0;34m:\u001b[0m\u001b[0;34m\u001b[0m\u001b[0m\n\u001b[1;32m     90\u001b[0m             \u001b[0;32mcontinue\u001b[0m\u001b[0;34m\u001b[0m\u001b[0m\n",
      "\u001b[0;32m~/Documents/Shapelet/Shapelet/shapelet_timeseries_classification/shapelets.py\u001b[0m in \u001b[0;36minformation_gain\u001b[0;34m(distances, set_entropy, split_point)\u001b[0m\n\u001b[1;32m     29\u001b[0m         \u001b[0mbelow_belong\u001b[0m\u001b[0;34m=\u001b[0m\u001b[0msum\u001b[0m\u001b[0;34m(\u001b[0m\u001b[0;34m[\u001b[0m\u001b[0mlc\u001b[0m\u001b[0;34m[\u001b[0m\u001b[0;36m2\u001b[0m\u001b[0;34m]\u001b[0m \u001b[0;32mfor\u001b[0m \u001b[0mlc\u001b[0m \u001b[0;32min\u001b[0m \u001b[0mbelow\u001b[0m\u001b[0;34m]\u001b[0m\u001b[0;34m)\u001b[0m\u001b[0;34m\u001b[0m\u001b[0m\n\u001b[1;32m     30\u001b[0m         \u001b[0mprop_above_belong\u001b[0m\u001b[0;34m=\u001b[0m\u001b[0mabove_belong\u001b[0m\u001b[0;34m/\u001b[0m\u001b[0mlen\u001b[0m\u001b[0;34m(\u001b[0m\u001b[0mabove\u001b[0m\u001b[0;34m)\u001b[0m\u001b[0;34m\u001b[0m\u001b[0m\n\u001b[0;32m---> 31\u001b[0;31m         \u001b[0mprop_below_belong\u001b[0m\u001b[0;34m=\u001b[0m\u001b[0mbelow_belong\u001b[0m\u001b[0;34m/\u001b[0m\u001b[0mlen\u001b[0m\u001b[0;34m(\u001b[0m\u001b[0mbelow\u001b[0m\u001b[0;34m)\u001b[0m\u001b[0;34m\u001b[0m\u001b[0m\n\u001b[0m\u001b[1;32m     32\u001b[0m         \u001b[0;32mif\u001b[0m \u001b[0mprop_above_belong\u001b[0m\u001b[0;34m==\u001b[0m\u001b[0;36m1.\u001b[0m \u001b[0;32mor\u001b[0m \u001b[0mprop_above_belong\u001b[0m\u001b[0;34m==\u001b[0m\u001b[0;36m0.\u001b[0m\u001b[0;34m:\u001b[0m\u001b[0;34m\u001b[0m\u001b[0m\n\u001b[1;32m     33\u001b[0m             \u001b[0mabove_entropy\u001b[0m\u001b[0;34m=\u001b[0m\u001b[0;36m0\u001b[0m\u001b[0;34m\u001b[0m\u001b[0m\n",
      "\u001b[0;31mZeroDivisionError\u001b[0m: division by zero"
     ]
    }
   ],
   "source": [
    "importlib.reload(sha)\n",
    "best_shapelets=[]\n",
    "time_res=1\n",
    "for n_donor, lc_donor in enumerate(x_train):\n",
    "    #Create lists with classifications of all time-series relative to the donor time series; one that the pool of shapelets is generated from\n",
    "    state_donor = y_train[n_donor]\n",
    "    belong_class=[]\n",
    "    other_class=[]\n",
    "    for n, i in enumerate(id_train):\n",
    "        if y_train[n] == state_donor:\n",
    "            belong_class.append(i)\n",
    "        else:\n",
    "            other_class.append(i)\n",
    "    #calculate the entropy of the entire set, so it can be compared to the split set later\n",
    "    prop_belong = len(belong_class)/(len(belong_class)+len(other_class))\n",
    "    set_entropy = -(prop_belong)*math.log2(prop_belong)-(1-prop_belong)*math.log2(1-prop_belong)\n",
    "    pool=sha.generate_shapelets(lc_donor, 1, len(lc_donor[0]))#generate shapelets from the donor time-series, \n",
    "    #set the initial best value of information gain to 0 (improved by any split) and start testing the shapelets\n",
    "    best_gain=0\n",
    "    for shapelet in pool:\n",
    "        skip_shapelet=False#for entropy pruning\n",
    "        #set the order of distance calculations\n",
    "        #pick an other_class object first and then alternate between belong and other, when one group runs out, append the rest of the other group to the end\n",
    "        order=[]\n",
    "        if len(belong_class)<len(other_class):alternations=len(belong_class);larger_group=other_class\n",
    "        else: alternations=len(other_class); larger_group=belong_class\n",
    "        for i in range(alternations):\n",
    "            order.append(other_class[i])\n",
    "            order.append(belong_class[i])\n",
    "        for i in range(len(larger_group)-alternations):\n",
    "            order.append(larger_group[-(i+1)])\n",
    "        #start distance calculations\n",
    "        distances=[]\n",
    "        for n_lc in order:\n",
    "            if id_train[n_donor] == n_lc:\n",
    "                distance = 0\n",
    "            else:\n",
    "                lc=x_train[np.where(np.array(id_train)==n_lc)[0][0]]\n",
    "                distance=sha.distance_calculation(shapelet, lc, early_abandon=True)\n",
    "            #save the distance value together with the classification and lightcurve id\n",
    "            if n_lc in belong_class:\n",
    "                class_assign=1\n",
    "            else:\n",
    "                class_assign=0\n",
    "            distances.append((n_lc ,distance, class_assign))\n",
    "            #find the optimal split point if there are at least two distances calculated, then use entropy pruning to find if the shapelet still has a change to beat the best one found so far\n",
    "            if len(distances)>1:\n",
    "                best_split=sha.best_split_point(distances, set_entropy)\n",
    "                skip_shapelet=sha.entropy_pruning(best_gain, distances, best_split, len(belong_class), len(other_class), set_entropy)\n",
    "                #print(best_split,distances,order,calc_belong,\"\\n\")\n",
    "                if skip_shapelet==True:\n",
    "                    break\n",
    "        #if shapelet was na rejected at entropy pruning, calculcate the information gain and if the value is larger then the best one so far, save the shapelet\n",
    "        if skip_shapelet==False:\n",
    "            gain=sha.information_gain(distances, set_entropy, best_split)\n",
    "            if gain>best_gain:\n",
    "                best_gain=gain\n",
    "                best_shapelet=shapelet\n",
    "    best_shapelets.append((best_shapelet, best_split, id_train[n_donor], state_donor))"
   ]
  },
  {
   "cell_type": "code",
   "execution_count": 30,
   "metadata": {},
   "outputs": [
    {
     "data": {
      "text/plain": [
       "[(array([2.19562952, 1.93159597]), 18.005294258616683, 9, 'gamma'),\n",
       " (array([1.84239785, 5.03487824]), 48.92272966051783, 8, 'gamma'),\n",
       " (array([2.0618034, 1.8768677]), 34.65821296767761, 6, 'beta'),\n",
       " (array([2.02090569, 1.91865267]), 10.296938277759926, 12, 'delta'),\n",
       " (array([2.11471529, 1.92832641]), 35.495406797206094, 3, 'alpha'),\n",
       " (array([2.10892781, 1.80303845]), 22.277998413856036, 4, 'beta'),\n",
       " (array([2.00349048, 1.92507868]), 11.040229921269406, 15, 'delta'),\n",
       " (array([1.8381966 , 2.13893167]), 31.22270264196674, 2, 'alpha')]"
      ]
     },
     "execution_count": 30,
     "metadata": {},
     "output_type": "execute_result"
    }
   ],
   "source": [
    "best_shapelets"
   ]
  },
  {
   "cell_type": "code",
   "execution_count": 22,
   "metadata": {},
   "outputs": [
    {
     "name": "stdout",
     "output_type": "stream",
     "text": [
      "(0.00023010343169163305, [(9, 0.0, 1), (4, 5.562724575613248e-06, 0), (8, 3.008087588128614e-05, 1), (15, 0.00043012598750197993, 0), (12, 0.0010461705819098186, 0), (3, 0.001054890856510026, 0), (2, 0.0029952364841038933, 0), (6, 0.013021959588090814, 0)]) \n",
      "\n",
      "(22.037200031436768, [(8, 0.0, 1), (6, 0.20459544380578634, 0), (4, 0.8456411846047335, 0), (9, 3.630052350876621, 1), (2, 40.44434771199691, 0), (3, 40.708716855152005, 0), (12, 75.84222573309106, 0), (15, 75.86697786369201, 0)]) \n",
      "\n",
      "(0.0010791593777280707, [(6, 0.0, 1), (3, 0.0002853463276409295, 0), (12, 0.000455701914935434, 0), (4, 0.0009093898692784473, 1), (9, 0.0012489288861776942, 0), (2, 0.0026787564920516304, 0), (8, 0.0028060519810264783, 0), (15, 0.004788853696856196, 0)]) \n",
      "\n",
      "(0.00012015001760091792, [(4, 0.0, 1), (12, 9.652201143992244e-05, 0), (6, 9.884741405277603e-05, 1), (9, 0.0001414526211490598, 0), (8, 0.0003145766782551977, 0), (15, 0.001736389991919248, 0), (3, 0.00382692586146484, 0), (2, 0.00460798836042325, 0)]) \n",
      "\n",
      "(0.0011733488741581853, [(4, 0.0, 1), (3, 0.000176289490955935, 0), (6, 0.0009093898692784473, 1), (2, 0.0014373078790379235, 0), (12, 0.0015731401817272546, 0), (9, 0.0019491470275899297, 0), (8, 0.0043879347505582, 0), (15, 0.005758960779620355, 0)]) \n",
      "\n",
      "(0.0008628270420398753, [(15, 0.0, 1), (2, 1.6479747857353664e-05, 0), (4, 0.00011452927414123037, 0), (12, 0.0001412878741933216, 1), (3, 0.001584366209886429, 0), (9, 0.002309877023143189, 0), (8, 0.0057011624257804405, 0), (6, 0.007562665500542073, 0)]) \n",
      "\n",
      "(0.0023114132429723337, [(15, 0.0, 1), (2, 0.0014359540302571034, 0), (12, 0.0022173599467895195, 1), (6, 0.002405466539155148, 0), (3, 0.0026979722712275576, 0), (8, 0.0027431818430316284, 0), (9, 0.0032464839093319904, 0), (4, 0.011682980543431865, 0)]) \n",
      "\n",
      "(0.0012472882385434181, [(15, 0.0, 1), (6, 0.0011142973791908707, 0), (12, 0.0012094657628895038, 1), (3, 0.0012851107141973325, 0), (8, 0.0014481374898751892, 0), (9, 0.0019700486905301, 0), (4, 0.0037292837503027226, 0), (2, 0.0037480867367382896, 0)]) \n",
      "\n"
     ]
    }
   ],
   "source": [
    "for i in x:\n",
    "    if i[0]>i[1][2][1]:\n",
    "        print(i, \"\\n\")"
   ]
  },
  {
   "cell_type": "code",
   "execution_count": 15,
   "metadata": {},
   "outputs": [],
   "source": [
    "def best_split_point(distances, set_entropy):\n",
    "    \"\"\"\n",
    "    \"\"\"\n",
    "    distances.sort(key=itemgetter(1))\n",
    "    best_gain_split=0\n",
    "    best_split=0\n",
    "    for distance in range(len(distances)-1):\n",
    "        split_point=(distances[distance][1] + distances[distance+1][1])/2\n",
    "        gain=information_gain(distances, set_entropy, split_point)\n",
    "        if isinstance(gain, str) == True:\n",
    "            continue\n",
    "        if gain>best_gain_split:\n",
    "            best_gain_split=gain\n",
    "            best_split=split_point\n",
    "    return best_split"
   ]
  },
  {
   "cell_type": "code",
   "execution_count": null,
   "metadata": {},
   "outputs": [],
   "source": [
    "for dist in distances:\n",
    "    if dist[0]<dist[1]:\n",
    "        print(dist)"
   ]
  },
  {
   "cell_type": "code",
   "execution_count": 37,
   "metadata": {},
   "outputs": [
    {
     "data": {
      "text/plain": [
       "5.2143655027403336e-05"
      ]
     },
     "execution_count": 37,
     "metadata": {},
     "output_type": "execute_result"
    }
   ],
   "source": [
    "set_entropy=0.8112781244591328\n",
    "distances=[(1, 0.0, 1),\n",
    "   (2, 0.00010428731005480667, 0),\n",
    "   (5, 0.0007561633579740471, 0),\n",
    "   (6, 0.0017046620775900152, 0),\n",
    "   (-1, 1.00170466207759, 0),\n",
    "   (-1, 1.00170466207759, 0)]\n",
    "distances.sort(key=itemgetter(1))\n",
    "best_gain_split=0\n",
    "best_split=0\n",
    "for distance in range(len(distances)-1):\n",
    "    split_point=(distances[distance][1] + distances[distance+1][1])/2\n",
    "    gain=sha.information_gain(distances, set_entropy, split_point)\n",
    "    if isinstance(gain, str) == True:\n",
    "        continue\n",
    "    if gain>best_gain_split:\n",
    "        best_gain_split=gain\n",
    "        best_split=split_point\n",
    "best_split"
   ]
  },
  {
   "cell_type": "code",
   "execution_count": 38,
   "metadata": {},
   "outputs": [
    {
     "data": {
      "text/plain": [
       "435"
      ]
     },
     "execution_count": 38,
     "metadata": {},
     "output_type": "execute_result"
    }
   ],
   "source": [
    "len(pool)"
   ]
  },
  {
   "cell_type": "code",
   "execution_count": 56,
   "metadata": {},
   "outputs": [
    {
     "data": {
      "text/plain": [
       "[[(1, 0.0, 1),\n",
       "  (2, 0.00010428731005480667, 0),\n",
       "  (5, 0.0007561633579740471, 0),\n",
       "  (6, 0.0017046620775900152, 0),\n",
       "  (-1, 1.00170466207759, 0),\n",
       "  (-1, 1.00170466207759, 0)],\n",
       " [(1, 0.0, 1),\n",
       "  (2, 0.00010428731005480667, 0),\n",
       "  (5, 0.0007561633579740471, 0),\n",
       "  (6, 0.0017046620775900152, 0),\n",
       "  (-1, 1.00170466207759, 0),\n",
       "  (-1, 1.00170466207759, 0)],\n",
       " [(1, 0.0, 1),\n",
       "  (2, 0.00010428731005480667, 0),\n",
       "  (5, 0.0007561633579740471, 0),\n",
       "  (6, 0.0017046620775900152, 0),\n",
       "  (-1, 1.00170466207759, 0),\n",
       "  (-1, 1.00170466207759, 0)]]"
      ]
     },
     "execution_count": 56,
     "metadata": {},
     "output_type": "execute_result"
    }
   ],
   "source": [
    "x"
   ]
  },
  {
   "cell_type": "code",
   "execution_count": 6,
   "metadata": {},
   "outputs": [
    {
     "data": {
      "text/plain": [
       "'alpha'"
      ]
     },
     "execution_count": 6,
     "metadata": {},
     "output_type": "execute_result"
    }
   ],
   "source": [
    "y_test[0]"
   ]
  },
  {
   "cell_type": "code",
   "execution_count": 39,
   "metadata": {},
   "outputs": [
    {
     "data": {
      "image/png": "[encoded data removed]",
      "text/plain": [
       "<Figure size 432x288 with 1 Axes>"
      ]
     },
     "metadata": {},
     "output_type": "display_data"
    },
    {
     "data": {
      "image/png": "[encoded data removed]",
      "text/plain": [
       "<Figure size 432x288 with 1 Axes>"
      ]
     },
     "metadata": {},
     "output_type": "display_data"
    },
    {
     "data": {
      "image/png": "[encoded data removed]",
      "text/plain": [
       "<Figure size 432x288 with 1 Axes>"
      ]
     },
     "metadata": {},
     "output_type": "display_data"
    },
    {
     "data": {
      "image/png": "[encoded data removed]",
      "text/plain": [
       "<Figure size 432x288 with 1 Axes>"
      ]
     },
     "metadata": {},
     "output_type": "display_data"
    }
   ],
   "source": [
    "for n, lc in enumerate(lcs):\n",
    "    if n in [1,15,25,36]:\n",
    "        plt.plot(lc[0],lc[1])\n",
    "        plt.show()"
   ]
  }
 ],
 "metadata": {
  "kernelspec": {
   "display_name": "Python 3",
   "language": "python",
   "name": "python3"
  },
  "language_info": {
   "codemirror_mode": {
    "name": "ipython",
    "version": 3
   },
   "file_extension": ".py",
   "mimetype": "text/x-python",
   "name": "python",
   "nbconvert_exporter": "python",
   "pygments_lexer": "ipython3",
   "version": "3.6.5"
  }
 },
 "nbformat": 4,
 "nbformat_minor": 2
}
